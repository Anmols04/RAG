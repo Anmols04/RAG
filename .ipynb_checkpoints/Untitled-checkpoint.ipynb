{
 "cells": [
  {
   "cell_type": "code",
   "execution_count": 15,
   "id": "846a853c-cd40-4a7e-9a9e-a9a334be832a",
   "metadata": {},
   "outputs": [
    {
     "name": "stdout",
     "output_type": "stream",
     "text": [
      "Requirement already satisfied: openai in c:\\users\\anmol\\anaconda3\\envs\\llms\\lib\\site-packages (1.69.0)\n",
      "Requirement already satisfied: python-dotenv in c:\\users\\anmol\\anaconda3\\envs\\llms\\lib\\site-packages (1.1.0)\n",
      "Requirement already satisfied: anyio<5,>=3.5.0 in c:\\users\\anmol\\anaconda3\\envs\\llms\\lib\\site-packages (from openai) (4.9.0)\n",
      "Requirement already satisfied: distro<2,>=1.7.0 in c:\\users\\anmol\\anaconda3\\envs\\llms\\lib\\site-packages (from openai) (1.9.0)\n",
      "Requirement already satisfied: httpx<1,>=0.23.0 in c:\\users\\anmol\\anaconda3\\envs\\llms\\lib\\site-packages (from openai) (0.28.1)\n",
      "Requirement already satisfied: jiter<1,>=0.4.0 in c:\\users\\anmol\\anaconda3\\envs\\llms\\lib\\site-packages (from openai) (0.9.0)\n",
      "Requirement already satisfied: pydantic<3,>=1.9.0 in c:\\users\\anmol\\anaconda3\\envs\\llms\\lib\\site-packages (from openai) (2.10.6)\n",
      "Requirement already satisfied: sniffio in c:\\users\\anmol\\anaconda3\\envs\\llms\\lib\\site-packages (from openai) (1.3.1)\n",
      "Requirement already satisfied: tqdm>4 in c:\\users\\anmol\\anaconda3\\envs\\llms\\lib\\site-packages (from openai) (4.67.1)\n",
      "Requirement already satisfied: typing-extensions<5,>=4.11 in c:\\users\\anmol\\anaconda3\\envs\\llms\\lib\\site-packages (from openai) (4.12.2)\n",
      "Requirement already satisfied: idna>=2.8 in c:\\users\\anmol\\anaconda3\\envs\\llms\\lib\\site-packages (from anyio<5,>=3.5.0->openai) (3.10)\n",
      "Requirement already satisfied: certifi in c:\\users\\anmol\\anaconda3\\envs\\llms\\lib\\site-packages (from httpx<1,>=0.23.0->openai) (2025.1.31)\n",
      "Requirement already satisfied: httpcore==1.* in c:\\users\\anmol\\anaconda3\\envs\\llms\\lib\\site-packages (from httpx<1,>=0.23.0->openai) (1.0.7)\n",
      "Requirement already satisfied: h11<0.15,>=0.13 in c:\\users\\anmol\\anaconda3\\envs\\llms\\lib\\site-packages (from httpcore==1.*->httpx<1,>=0.23.0->openai) (0.14.0)\n",
      "Requirement already satisfied: annotated-types>=0.6.0 in c:\\users\\anmol\\anaconda3\\envs\\llms\\lib\\site-packages (from pydantic<3,>=1.9.0->openai) (0.7.0)\n",
      "Requirement already satisfied: pydantic-core==2.27.2 in c:\\users\\anmol\\anaconda3\\envs\\llms\\lib\\site-packages (from pydantic<3,>=1.9.0->openai) (2.27.2)\n",
      "Requirement already satisfied: colorama in c:\\users\\anmol\\anaconda3\\envs\\llms\\lib\\site-packages (from tqdm>4->openai) (0.4.6)\n"
     ]
    }
   ],
   "source": [
    "!pip install openai python-dotenv\n"
   ]
  },
  {
   "cell_type": "code",
   "execution_count": 36,
   "id": "11cffa09-0436-4fcb-95b8-4396d5ddfcc9",
   "metadata": {},
   "outputs": [
    {
     "name": "stdout",
     "output_type": "stream",
     "text": [
      "Collecting openai==0.28.1\n",
      "  Downloading openai-0.28.1-py3-none-any.whl.metadata (11 kB)\n",
      "Requirement already satisfied: requests>=2.20 in c:\\users\\anmol\\anaconda3\\envs\\llms\\lib\\site-packages (from openai==0.28.1) (2.32.3)\n",
      "Requirement already satisfied: tqdm in c:\\users\\anmol\\anaconda3\\envs\\llms\\lib\\site-packages (from openai==0.28.1) (4.67.1)\n",
      "Requirement already satisfied: aiohttp in c:\\users\\anmol\\anaconda3\\envs\\llms\\lib\\site-packages (from openai==0.28.1) (3.11.14)\n",
      "Requirement already satisfied: charset_normalizer<4,>=2 in c:\\users\\anmol\\anaconda3\\envs\\llms\\lib\\site-packages (from requests>=2.20->openai==0.28.1) (3.4.1)\n",
      "Requirement already satisfied: idna<4,>=2.5 in c:\\users\\anmol\\anaconda3\\envs\\llms\\lib\\site-packages (from requests>=2.20->openai==0.28.1) (3.10)\n",
      "Requirement already satisfied: urllib3<3,>=1.21.1 in c:\\users\\anmol\\anaconda3\\envs\\llms\\lib\\site-packages (from requests>=2.20->openai==0.28.1) (2.3.0)\n",
      "Requirement already satisfied: certifi>=2017.4.17 in c:\\users\\anmol\\anaconda3\\envs\\llms\\lib\\site-packages (from requests>=2.20->openai==0.28.1) (2025.1.31)\n",
      "Requirement already satisfied: aiohappyeyeballs>=2.3.0 in c:\\users\\anmol\\anaconda3\\envs\\llms\\lib\\site-packages (from aiohttp->openai==0.28.1) (2.6.1)\n",
      "Requirement already satisfied: aiosignal>=1.1.2 in c:\\users\\anmol\\anaconda3\\envs\\llms\\lib\\site-packages (from aiohttp->openai==0.28.1) (1.3.2)\n",
      "Requirement already satisfied: attrs>=17.3.0 in c:\\users\\anmol\\anaconda3\\envs\\llms\\lib\\site-packages (from aiohttp->openai==0.28.1) (25.3.0)\n",
      "Requirement already satisfied: frozenlist>=1.1.1 in c:\\users\\anmol\\anaconda3\\envs\\llms\\lib\\site-packages (from aiohttp->openai==0.28.1) (1.5.0)\n",
      "Requirement already satisfied: multidict<7.0,>=4.5 in c:\\users\\anmol\\anaconda3\\envs\\llms\\lib\\site-packages (from aiohttp->openai==0.28.1) (6.2.0)\n",
      "Requirement already satisfied: propcache>=0.2.0 in c:\\users\\anmol\\anaconda3\\envs\\llms\\lib\\site-packages (from aiohttp->openai==0.28.1) (0.3.1)\n",
      "Requirement already satisfied: yarl<2.0,>=1.17.0 in c:\\users\\anmol\\anaconda3\\envs\\llms\\lib\\site-packages (from aiohttp->openai==0.28.1) (1.18.3)\n",
      "Requirement already satisfied: colorama in c:\\users\\anmol\\anaconda3\\envs\\llms\\lib\\site-packages (from tqdm->openai==0.28.1) (0.4.6)\n",
      "Downloading openai-0.28.1-py3-none-any.whl (76 kB)\n",
      "Installing collected packages: openai\n",
      "  Attempting uninstall: openai\n",
      "    Found existing installation: openai 1.69.0\n",
      "    Uninstalling openai-1.69.0:\n",
      "      Successfully uninstalled openai-1.69.0\n",
      "Successfully installed openai-0.28.1\n",
      "Note: you may need to restart the kernel to use updated packages.\n"
     ]
    },
    {
     "name": "stderr",
     "output_type": "stream",
     "text": [
      "ERROR: pip's dependency resolver does not currently take into account all the packages that are installed. This behaviour is the source of the following dependency conflicts.\n",
      "langchain-openai 0.3.11 requires openai<2.0.0,>=1.68.2, but you have openai 0.28.1 which is incompatible.\n"
     ]
    }
   ],
   "source": [
    "pip install openai==0.28.1\n"
   ]
  },
  {
   "cell_type": "code",
   "execution_count": 37,
   "id": "33956bab-bbd4-48c2-8f41-9afb03de36ef",
   "metadata": {},
   "outputs": [],
   "source": [
    "import os\n",
    "import glob\n",
    "from dotenv import load_dotenv\n",
    "import gradio as gr\n",
    "from openai import OpenAI\n"
   ]
  },
  {
   "cell_type": "code",
   "execution_count": 38,
   "id": "813f2c96-8035-43cc-b1c6-0c04d0cc10ae",
   "metadata": {},
   "outputs": [],
   "source": [
    "MODEL = \"gpt-4o-mini\""
   ]
  },
  {
   "cell_type": "code",
   "execution_count": 41,
   "id": "eedf24de-7663-4722-b6eb-b000b93ad6be",
   "metadata": {},
   "outputs": [],
   "source": [
    "load_dotenv(override=True)\n",
    "clint=os.environ['OPENAI_API_KEY'] = os.getenv('OPENAI_API_KEY', 'your-key-if-not-using-env')"
   ]
  },
  {
   "cell_type": "code",
   "execution_count": 47,
   "id": "30bebd36-bd1b-4189-833f-f8a0e1bd72ca",
   "metadata": {},
   "outputs": [
    {
     "name": "stderr",
     "output_type": "stream",
     "text": [
      "C:\\Users\\anmol\\AppData\\Local\\Temp\\ipykernel_18988\\2703026634.py:25: UserWarning: You have not specified a value for the `type` parameter. Defaulting to the 'tuples' format for chatbot messages, but this is deprecated and will be removed in a future version of Gradio. Please set type='messages' instead, which uses openai-style dictionaries with 'role' and 'content' keys.\n",
      "  chatbot = gr.Chatbot()\n"
     ]
    },
    {
     "name": "stdout",
     "output_type": "stream",
     "text": [
      "* Running on local URL:  http://127.0.0.1:7860\n",
      "\n",
      "To create a public link, set `share=True` in `launch()`.\n"
     ]
    },
    {
     "data": {
      "text/html": [
       "<div><iframe src=\"http://127.0.0.1:7860/\" width=\"100%\" height=\"500\" allow=\"autoplay; camera; microphone; clipboard-read; clipboard-write;\" frameborder=\"0\" allowfullscreen></iframe></div>"
      ],
      "text/plain": [
       "<IPython.core.display.HTML object>"
      ]
     },
     "metadata": {},
     "output_type": "display_data"
    },
    {
     "data": {
      "text/plain": []
     },
     "execution_count": 47,
     "metadata": {},
     "output_type": "execute_result"
    }
   ],
   "source": [
    "client = OpenAI(api_key=os.getenv(\"OPENAI_API_KEY\"))\n",
    "def chat_with_gpt4o(messages):\n",
    "    # Convert Gradio chat history to OpenAI format\n",
    "    formatted_messages = [{\"role\": \"system\", \"content\": \"You are a helpful assistant.\"}]\n",
    "    for msg in messages:\n",
    "        formatted_messages.append({\"role\": \"user\", \"content\": msg[0]})\n",
    "        formatted_messages.append({\"role\": \"assistant\", \"content\": msg[1]})\n",
    "\n",
    "    # Take only the last user message for response\n",
    "    last_user_message = {\"role\": \"user\", \"content\": messages[-1][0]}\n",
    "\n",
    "    response = client.chat.completions.create(\n",
    "        model=\"gpt-4o\",\n",
    "        messages=formatted_messages[:-1] + [last_user_message],\n",
    "        temperature=0.7,\n",
    "        max_tokens=200\n",
    "    )\n",
    "\n",
    "    reply = response.choices[0].message.content\n",
    "    return messages + [(messages[-1][0], reply)]\n",
    "\n",
    "# Gradio Chat Interface\n",
    "with gr.Blocks() as demo:\n",
    "    gr.Markdown(\"## 🤖 GPT-4o Mini Chat Assistant\")\n",
    "    chatbot = gr.Chatbot()\n",
    "    msg = gr.Textbox(label=\"Type your message\")\n",
    "    clear = gr.Button(\"Clear\")\n",
    "\n",
    "    def respond(user_message, chat_history):\n",
    "        if not user_message:\n",
    "            return chat_history\n",
    "        return chat_with_gpt4o(chat_history + [[user_message, \"\"]])\n",
    "\n",
    "    msg.submit(respond, [msg, chatbot], chatbot)\n",
    "    clear.click(lambda: None, None, chatbot, queue=False)\n",
    "\n",
    "demo.launch()"
   ]
  },
  {
   "cell_type": "code",
   "execution_count": 46,
   "id": "47870a6b-a6d7-473c-905b-06d3dcf2cf35",
   "metadata": {},
   "outputs": [
    {
     "name": "stdin",
     "output_type": "stream",
     "text": [
      "You:  I'll give you the data first. based on that data and also all the other data you know, create me a model first. after you create it, we will integrate the model into an app and you can create an website with this. First gimme the model.  Data I found on internet:  https://cdscoonline.gov.in/CDSCO/Drugs https://www.kaggle.com/datasets/harunshimanto/epileptic-seizure-recognition/data https://www.epilepsy.com/treatment/medicines/choosing-first-medicine https://www.ncbi.nlm.nih.gov/books/NBK343318/ https://www.physionet.org/content/siena-scalp-eeg/1.0.0/ https://chatgpt.com/share/67ff70b8-17dc-8008-b22a-d4e4447e1c4e http://claude.ai/chat/4207aa1e-d6bc-4040-aa6c-c46c18fc429b https://www.kaggle.com/datasets/subirbiswas19/eeg-dataset https://www.hopkinsmedicine.org/health/conditions-and-diseases/epilepsy/evaluation-of-a-firsttime-seizure https://www.cureepilepsy.org/understanding-epilepsy/epilepsy-basics/phases-of-seizures/ https://www.hopkinsmedicine.org/health/conditions-and-diseases/epilepsy/types-of-seizures https://www.webmd.com/epilepsy/types-of-seizures-their-symptoms https://www.mayoclinic.org/diseases-conditions/seizure/symptoms-causes/syc-20365711 https://www.cdc.gov/epilepsy/about/types-of-seizures.html https://nyulangone.org/conditions/epilepsy-seizure-disorders/types https://www.cdc.gov/epilepsy/about/types-of-seizures.html https://en.wikipedia.org/wiki/Seizure https://www.healthline.com/health/types-of-seizures https://miamineurosciencecenter.com/en/conditions/epilepsy/   The input details we ask from patients are (These are also inputs to model) we want them to be numeric, multiple choice or dropdown. because we can't take long descriptive answers from patients:  (((( ## ✅ *Complete Feature Set for the Model Input*  (Please fill the details to your best knowledge to get accurate output)  ### 🧠 *Patient Medical History* - *Age of seizure onset* (Dropdown: neonatal, childhood, adolescence, adulthood) - *Frequency of seizures* (Input or dropdown: per day/week/month) - *History of status epilepticus? (Status epilepticus is a medical emergency that occurs when a seizure lasts longer than five minutes, or when seizures happen in rapid succession without the person regaining consciousness between them)* (Yes/No)  - *Family history of epilepsy* (Yes/No) - *History of febrile seizures (Febrile seizures are seizures in children caused by a fever, typically between 6 months and 5 years of age.)* (Yes/No) - *History of brain trauma/injury* (Yes/No) - *Surgical interventions (if any)* (Dropdown: none, lobectomy, DBS, etc.)  ---  ### 💊 *Medication Profile* (include all AEDs and side effects yourself) - *Current AEDs (anti-epileptic drugs)* (Multi-select: carbamazepine, valproate, levetiracetam, none.) - *Time since last dose* (Dropdown: <6h, 6–12h, 12–24h, >24h, not applicable) - *Missed recent dose?* (Yes/No) - *Drug resistance status* (Dropdown: responsive, partially responsive, drug-resistant, not applicable) - *Side effects experienced from AEDs?* (Dropdown: none, dizziness, nausea, sleepiness, not applicable)  ---  ### 🧬 *Genetic & Comorbidity Factors* - *Known epilepsy-related genetic mutation?* (Yes/No/Unknown) - *Comorbidities:* (Multi-select MCQ)   - Intellectual disability (ID)   - ADHD   - Autism spectrum disorder   - Depression   - Anxiety   - Migraine history - *Neurodevelopmental conditions? (Neurodevelopmental disorders are conditions that arise from disruptions in the development and function of the nervous system, particularly the brain.)* (Yes/No)  ---  ### 🛌 *Lifestyle & Environmental Triggers* - *Sleep in last 24 hours* (Dropdown: <4h, 4–6h, 6–8h, >8h) - *Caffeine/alcohol in last 24h* (Yes/No) - *Stress level (self-reported)* (Dropdown: low, moderate, high) - *Exposure to seizure triggers recently* (Multi-select MCQ)   - Flashing lights/screens   - Loud noise   - Hot water/shower   - Stressful emotional events   - Missing meals - *Time of day* (Dropdown: morning, afternoon, night — to detect circadian risk patterns) - *Weather conditions* (Dropdown: hot, cold, humid, stormy)  ---  ### 🧍 *Physiological & Body Metrics* - *Age* (Input) - *Gender* (Dropdown) - *Weight* (Input, in kg) - *Height* (Input, in cm) - *Recent heart rate (if wearable connected)* (Input or Skip) - *Blood pressure (if known)* (Input or Skip) - *Blood glucose level (if available)* (Input or Skip)  ---  ### 📍 *Contextual and Behavioral Status* - *Current location type* (Dropdown: home, office, school, driving, outdoors, unknown) - *Alone or with someone?* (Yes/No) - *Immediate access to hospital or AEDs nearby?* (Yes/No) - *Previous episode in past 48h?* (Yes/No) - *Postictal symptoms after last episode?* (Multi-select MCQ)   - Headache   - Fatigue   - Confusion   - Aphasia   - Automatisms (lip smacking, hand movements)  ---  ## 🧪 Optional Advanced Inputs (for model refinement if available): - *Recent MRI or EEG results* (Dropdown: normal, abnormal, not available) - *vEEG diagnosis (if any)* (Yes/No/Unknown) - *PET or SPECT scan results* (Dropdown: abnormal glucose metabolism, normal, not available) - *Prolactin level post-seizure (if ever tested)* (Dropdown: elevated, normal, not available)  ))))  Output should be: If the person actually has epilepsy (give a percentage) (if the percentage is greater than 60% proceed giving the rest of the results)  What kind of epilepsy is detected? (including a description about the predicted type of the seizure) Dosage and name of the medicine What kind of side effects the suggested medication can cause A description about the patient's current situation (if the patient needs immediate medical response) a disclaimer showcasing the confidence level of the model. (the accuracy of the prediction is based on the given inputs and the available data to the model, please seek medical help if possible)\n"
     ]
    },
    {
     "name": "stdout",
     "output_type": "stream",
     "text": [
      "GPT-4o: To build a model for predicting epilepsy and providing recommendations, we can use a machine learning approach with the given input features. Here is a step-by-step outline for building the model:\n",
      "\n",
      "### Step 1: Data Collection and Preprocessing\n",
      "1. **Data Sources**: Gather data from the provided links and datasets, focusing on epilepsy, its types, treatments, and patient medical histories.\n",
      "2. **Feature Engineering**: Prepare the input features as described, converting them into a suitable format for the model (e.g., encoding categorical variables, normalizing numerical inputs).\n",
      "3. **Handling Missing Data**: Decide on a strategy to handle missing values, such as imputation or discarding incomplete records.\n",
      "\n",
      "### Step 2: Model Selection\n",
      "1. **Model Choice**: Use a classification algorithm since the primary task is to classify if the person has epilepsy and identify the type.\n",
      "   - Options include Random Forest, Gradient Boosting, or Neural Networks, depending on the complexity and size of the dataset\n"
     ]
    }
   ],
   "source": [
    "# Take input from user\n",
    "user_input = input(\"You: \")\n",
    "response = ask_gpt4o(user_input)\n",
    "print(\"GPT-4o:\", response)\n"
   ]
  },
  {
   "cell_type": "code",
   "execution_count": null,
   "id": "33d6df84-0e8d-4230-b99c-cefe8ee8b9d1",
   "metadata": {},
   "outputs": [],
   "source": []
  }
 ],
 "metadata": {
  "kernelspec": {
   "display_name": "Python 3 (ipykernel)",
   "language": "python",
   "name": "python3"
  },
  "language_info": {
   "codemirror_mode": {
    "name": "ipython",
    "version": 3
   },
   "file_extension": ".py",
   "mimetype": "text/x-python",
   "name": "python",
   "nbconvert_exporter": "python",
   "pygments_lexer": "ipython3",
   "version": "3.11.11"
  }
 },
 "nbformat": 4,
 "nbformat_minor": 5
}
